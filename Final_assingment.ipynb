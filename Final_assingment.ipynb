{
  "nbformat": 4,
  "nbformat_minor": 0,
  "metadata": {
    "colab": {
      "name": "Final_assingment.ipynb",
      "provenance": [],
      "collapsed_sections": []
    },
    "kernelspec": {
      "name": "python3",
      "display_name": "Python 3"
    },
    "accelerator": "GPU"
  },
  "cells": [
    {
      "cell_type": "code",
      "metadata": {
        "id": "0hYwIsQhf_Nm",
        "colab_type": "code",
        "outputId": "20aab1c0-4258-49e7-c477-376d2ab81401",
        "colab": {
          "base_uri": "https://localhost:8080/",
          "height": 87
        }
      },
      "source": [
        "\n",
        "#  importing all the libraries required for the experiment\n",
        "import numpy as np\n",
        "import pandas as pd\n",
        "import matplotlib.pyplot as plt\n",
        "import seaborn as sns\n",
        "%matplotlib inline\n",
        "import nltk\n",
        "nltk.download('punkt')\n",
        "nltk.download('wordnet')\n",
        "from nltk.tokenize import TweetTokenizer\n",
        "import datetime\n",
        "from sklearn.model_selection import train_test_split, cross_val_score\n",
        "from collections import Counter\n",
        "from nltk.corpus import stopwords\n",
        "from nltk.util import ngrams\n",
        "from sklearn.feature_extraction.text import TfidfVectorizer\n",
        "pd.set_option('max_colwidth',400)"
      ],
      "execution_count": 102,
      "outputs": [
        {
          "output_type": "stream",
          "text": [
            "[nltk_data] Downloading package punkt to /root/nltk_data...\n",
            "[nltk_data]   Package punkt is already up-to-date!\n",
            "[nltk_data] Downloading package wordnet to /root/nltk_data...\n",
            "[nltk_data]   Package wordnet is already up-to-date!\n"
          ],
          "name": "stdout"
        }
      ]
    },
    {
      "cell_type": "code",
      "metadata": {
        "id": "KFLHMFCbgNA7",
        "colab_type": "code",
        "outputId": "9e210f3b-f74a-453f-e5e8-1150fb145c2d",
        "colab": {
          "base_uri": "https://localhost:8080/",
          "height": 360
        }
      },
      "source": [
        "\n",
        "#  reading the dataset file from the content folder\n",
        "train = pd.read_csv('/content/train.tsv.txt', delimiter='\\t', usecols = ['SentenceId','Phrase','Sentiment'])\n",
        "pd.set_option('display.max_colwidth', -1)\n",
        "# displaying top 10 records of the dataset with all the headers\n",
        "train.head(10)\n"
      ],
      "execution_count": 103,
      "outputs": [
        {
          "output_type": "execute_result",
          "data": {
            "text/html": [
              "<div>\n",
              "<style scoped>\n",
              "    .dataframe tbody tr th:only-of-type {\n",
              "        vertical-align: middle;\n",
              "    }\n",
              "\n",
              "    .dataframe tbody tr th {\n",
              "        vertical-align: top;\n",
              "    }\n",
              "\n",
              "    .dataframe thead th {\n",
              "        text-align: right;\n",
              "    }\n",
              "</style>\n",
              "<table border=\"1\" class=\"dataframe\">\n",
              "  <thead>\n",
              "    <tr style=\"text-align: right;\">\n",
              "      <th></th>\n",
              "      <th>SentenceId</th>\n",
              "      <th>Phrase</th>\n",
              "      <th>Sentiment</th>\n",
              "    </tr>\n",
              "  </thead>\n",
              "  <tbody>\n",
              "    <tr>\n",
              "      <th>0</th>\n",
              "      <td>1</td>\n",
              "      <td>A series of escapades demonstrating the adage that what is good for the goose is also good for the gander , some of which occasionally amuses but none of which amounts to much of a story .</td>\n",
              "      <td>1</td>\n",
              "    </tr>\n",
              "    <tr>\n",
              "      <th>1</th>\n",
              "      <td>1</td>\n",
              "      <td>A series of escapades demonstrating the adage that what is good for the goose</td>\n",
              "      <td>2</td>\n",
              "    </tr>\n",
              "    <tr>\n",
              "      <th>2</th>\n",
              "      <td>1</td>\n",
              "      <td>A series</td>\n",
              "      <td>2</td>\n",
              "    </tr>\n",
              "    <tr>\n",
              "      <th>3</th>\n",
              "      <td>1</td>\n",
              "      <td>A</td>\n",
              "      <td>2</td>\n",
              "    </tr>\n",
              "    <tr>\n",
              "      <th>4</th>\n",
              "      <td>1</td>\n",
              "      <td>series</td>\n",
              "      <td>2</td>\n",
              "    </tr>\n",
              "    <tr>\n",
              "      <th>5</th>\n",
              "      <td>1</td>\n",
              "      <td>of escapades demonstrating the adage that what is good for the goose</td>\n",
              "      <td>2</td>\n",
              "    </tr>\n",
              "    <tr>\n",
              "      <th>6</th>\n",
              "      <td>1</td>\n",
              "      <td>of</td>\n",
              "      <td>2</td>\n",
              "    </tr>\n",
              "    <tr>\n",
              "      <th>7</th>\n",
              "      <td>1</td>\n",
              "      <td>escapades demonstrating the adage that what is good for the goose</td>\n",
              "      <td>2</td>\n",
              "    </tr>\n",
              "    <tr>\n",
              "      <th>8</th>\n",
              "      <td>1</td>\n",
              "      <td>escapades</td>\n",
              "      <td>2</td>\n",
              "    </tr>\n",
              "    <tr>\n",
              "      <th>9</th>\n",
              "      <td>1</td>\n",
              "      <td>demonstrating the adage that what is good for the goose</td>\n",
              "      <td>2</td>\n",
              "    </tr>\n",
              "  </tbody>\n",
              "</table>\n",
              "</div>"
            ],
            "text/plain": [
              "   SentenceId  ... Sentiment\n",
              "0  1           ...  1       \n",
              "1  1           ...  2       \n",
              "2  1           ...  2       \n",
              "3  1           ...  2       \n",
              "4  1           ...  2       \n",
              "5  1           ...  2       \n",
              "6  1           ...  2       \n",
              "7  1           ...  2       \n",
              "8  1           ...  2       \n",
              "9  1           ...  2       \n",
              "\n",
              "[10 rows x 3 columns]"
            ]
          },
          "metadata": {
            "tags": []
          },
          "execution_count": 103
        }
      ]
    },
    {
      "cell_type": "code",
      "metadata": {
        "id": "tReLksL1hV83",
        "colab_type": "code",
        "outputId": "75f8f378-f672-4daa-d696-954d6dca8ada",
        "colab": {
          "base_uri": "https://localhost:8080/",
          "height": 122
        }
      },
      "source": [
        "# printing the sentiment counts for each sentiment in the dataset\n",
        "train['Sentiment'].value_counts()"
      ],
      "execution_count": 104,
      "outputs": [
        {
          "output_type": "execute_result",
          "data": {
            "text/plain": [
              "2    79582\n",
              "3    32927\n",
              "1    27273\n",
              "4    9206 \n",
              "0    7072 \n",
              "Name: Sentiment, dtype: int64"
            ]
          },
          "metadata": {
            "tags": []
          },
          "execution_count": 104
        }
      ]
    },
    {
      "cell_type": "code",
      "metadata": {
        "id": "xx4N5R9oi_Mq",
        "colab_type": "code",
        "outputId": "721e1af0-1c08-4e99-b38d-84ece3c5bd6d",
        "colab": {
          "base_uri": "https://localhost:8080/",
          "height": 52
        }
      },
      "source": [
        "# importing libraries for the pre processing of the data\n",
        "from nltk.tokenize import word_tokenize\n",
        "from nltk import FreqDist\n",
        "from nltk.stem import SnowballStemmer,WordNetLemmatizer,PorterStemmer,LancasterStemmer\n",
        "from string import punctuation\n",
        "import re\n",
        "import nltk\n",
        "nltk.download('stopwords')\n",
        "stemmer=LancasterStemmer()\n",
        "lemma=WordNetLemmatizer()\n",
        "stopwords_en = stopwords.words(\"english\")\n",
        "punctuations=\"?:!.,;'\\\"-()\"\n",
        "remove_stopwords = False\n",
        "useStemming = True\n",
        "useLemma = True\n",
        "removePuncs = True"
      ],
      "execution_count": 105,
      "outputs": [
        {
          "output_type": "stream",
          "text": [
            "[nltk_data] Downloading package stopwords to /root/nltk_data...\n",
            "[nltk_data]   Package stopwords is already up-to-date!\n"
          ],
          "name": "stdout"
        }
      ]
    },
    {
      "cell_type": "code",
      "metadata": {
        "id": "wz-VxcwJjCDG",
        "colab_type": "code",
        "colab": {}
      },
      "source": [
        "#  creating a clean review column which is done after removeing stop words and lower case all the words.\n",
        "#  wordnet lemmatizer is used to lemmatize the words.\n",
        "def final_review(review_col):\n",
        "    review_corpus=[]\n",
        "    for i in range(0,len(review_col)):\n",
        "      review=str(review_col[i])\n",
        "      review=re.sub('[^a-zA-Z]',' ',review)\n",
        "        \n",
        "      if useStemming:\n",
        "        review = stemmer.stem(review)\n",
        "      if useLemma:\n",
        "         review=[lemma.lemmatize(w) for w in word_tokenize(str(review).lower())]\n",
        "      review=' '.join(review)\n",
        "      review_corpus.append(review)\n",
        "    return review_corpus\n",
        "\n",
        "       \n",
        "        # review=re.sub('[^a-zA-Z]',' ',review)\n",
        "        # review = stemmer.stem(review)\n",
        "       \n",
        "        \n",
        "       \n",
        "    \n",
        "\n",
        "   "
      ],
      "execution_count": 0,
      "outputs": []
    },
    {
      "cell_type": "code",
      "metadata": {
        "id": "FUEjGA-pjEqs",
        "colab_type": "code",
        "outputId": "a00972df-6e89-4ecd-cba8-c105b725a85d",
        "colab": {
          "base_uri": "https://localhost:8080/",
          "height": 246
        }
      },
      "source": [
        " \n",
        "# displaying the result of the clean review after the preprocessing\n",
        "train['final_review']=final_review(train.Phrase.values)\n",
        "train.head(5)"
      ],
      "execution_count": 107,
      "outputs": [
        {
          "output_type": "execute_result",
          "data": {
            "text/html": [
              "<div>\n",
              "<style scoped>\n",
              "    .dataframe tbody tr th:only-of-type {\n",
              "        vertical-align: middle;\n",
              "    }\n",
              "\n",
              "    .dataframe tbody tr th {\n",
              "        vertical-align: top;\n",
              "    }\n",
              "\n",
              "    .dataframe thead th {\n",
              "        text-align: right;\n",
              "    }\n",
              "</style>\n",
              "<table border=\"1\" class=\"dataframe\">\n",
              "  <thead>\n",
              "    <tr style=\"text-align: right;\">\n",
              "      <th></th>\n",
              "      <th>SentenceId</th>\n",
              "      <th>Phrase</th>\n",
              "      <th>Sentiment</th>\n",
              "      <th>final_review</th>\n",
              "    </tr>\n",
              "  </thead>\n",
              "  <tbody>\n",
              "    <tr>\n",
              "      <th>0</th>\n",
              "      <td>1</td>\n",
              "      <td>A series of escapades demonstrating the adage that what is good for the goose is also good for the gander , some of which occasionally amuses but none of which amounts to much of a story .</td>\n",
              "      <td>1</td>\n",
              "      <td>a series of escapade demonstrating the adage that what is good for the goose is also good for the gander some of which occasionally amuses but none of which amount to much of a story</td>\n",
              "    </tr>\n",
              "    <tr>\n",
              "      <th>1</th>\n",
              "      <td>1</td>\n",
              "      <td>A series of escapades demonstrating the adage that what is good for the goose</td>\n",
              "      <td>2</td>\n",
              "      <td>a series of escapade demonstrating the adage that what is good for the goose</td>\n",
              "    </tr>\n",
              "    <tr>\n",
              "      <th>2</th>\n",
              "      <td>1</td>\n",
              "      <td>A series</td>\n",
              "      <td>2</td>\n",
              "      <td>a series</td>\n",
              "    </tr>\n",
              "    <tr>\n",
              "      <th>3</th>\n",
              "      <td>1</td>\n",
              "      <td>A</td>\n",
              "      <td>2</td>\n",
              "      <td>a</td>\n",
              "    </tr>\n",
              "    <tr>\n",
              "      <th>4</th>\n",
              "      <td>1</td>\n",
              "      <td>series</td>\n",
              "      <td>2</td>\n",
              "      <td>sery</td>\n",
              "    </tr>\n",
              "  </tbody>\n",
              "</table>\n",
              "</div>"
            ],
            "text/plain": [
              "   SentenceId  ...                                                                                                                                                                            final_review\n",
              "0  1           ...  a series of escapade demonstrating the adage that what is good for the goose is also good for the gander some of which occasionally amuses but none of which amount to much of a story\n",
              "1  1           ...  a series of escapade demonstrating the adage that what is good for the goose                                                                                                          \n",
              "2  1           ...  a series                                                                                                                                                                              \n",
              "3  1           ...  a                                                                                                                                                                                     \n",
              "4  1           ...  sery                                                                                                                                                                                  \n",
              "\n",
              "[5 rows x 4 columns]"
            ]
          },
          "metadata": {
            "tags": []
          },
          "execution_count": 107
        }
      ]
    },
    {
      "cell_type": "code",
      "metadata": {
        "id": "PG23Yn5qnkKl",
        "colab_type": "code",
        "colab": {}
      },
      "source": [
        "tokenizer = TweetTokenizer()"
      ],
      "execution_count": 0,
      "outputs": []
    },
    {
      "cell_type": "code",
      "metadata": {
        "id": "ia_hDT1UnoMw",
        "colab_type": "code",
        "outputId": "65de1987-b783-43e1-c432-59d76c0a9b31",
        "colab": {
          "base_uri": "https://localhost:8080/",
          "height": 72
        }
      },
      "source": [
        "# word tokenizing the data from the clean phrases obtained after the preprocessing\n",
        "vectorizer = TfidfVectorizer(ngram_range=(1, 2), tokenizer=tokenizer.tokenize)\n",
        "full_text = list(train['final_review'].values) \n",
        "vectorizer.fit(full_text)\n",
        "upsampled_vectorized_data = vectorizer.transform(train['final_review'])\n"
      ],
      "execution_count": 109,
      "outputs": [
        {
          "output_type": "stream",
          "text": [
            "/usr/local/lib/python3.6/dist-packages/sklearn/feature_extraction/text.py:507: UserWarning: The parameter 'token_pattern' will not be used since 'tokenizer' is not None'\n",
            "  warnings.warn(\"The parameter 'token_pattern' will not be used\"\n"
          ],
          "name": "stderr"
        }
      ]
    },
    {
      "cell_type": "code",
      "metadata": {
        "id": "hNRdilFooAMq",
        "colab_type": "code",
        "colab": {}
      },
      "source": [
        "#  storing the sentiment value in the Y column\n",
        "y = train['Sentiment']"
      ],
      "execution_count": 0,
      "outputs": []
    },
    {
      "cell_type": "code",
      "metadata": {
        "id": "ZqQ4BcfZoG7v",
        "colab_type": "code",
        "outputId": "8cde62f8-2057-4d8e-af07-67a939a486f7",
        "colab": {
          "base_uri": "https://localhost:8080/",
          "height": 140
        }
      },
      "source": [
        "#  since the data is a multi class , we turn the sentiment into categorical form for easy processing and classfication\n",
        "from keras.utils import to_categorical\n",
        "X = train['final_review']\n",
        "\n",
        "Y = to_categorical(train['Sentiment'].values)\n",
        "print(Y)"
      ],
      "execution_count": 111,
      "outputs": [
        {
          "output_type": "stream",
          "text": [
            "[[0. 1. 0. 0. 0.]\n",
            " [0. 0. 1. 0. 0.]\n",
            " [0. 0. 1. 0. 0.]\n",
            " ...\n",
            " [0. 0. 0. 1. 0.]\n",
            " [0. 0. 1. 0. 0.]\n",
            " [0. 0. 1. 0. 0.]]\n"
          ],
          "name": "stdout"
        }
      ]
    },
    {
      "cell_type": "code",
      "metadata": {
        "id": "bX2UGM6SoQNB",
        "colab_type": "code",
        "colab": {}
      },
      "source": [
        "#  splitting the train file into train and test with ration of 70 and 30\n",
        "from sklearn.model_selection import train_test_split\n",
        "X_train, X_test, Y_train, Y_test = train_test_split(X, Y, test_size=0.3, random_state=123)"
      ],
      "execution_count": 0,
      "outputs": []
    },
    {
      "cell_type": "code",
      "metadata": {
        "id": "W8g56qBhoa3x",
        "colab_type": "code",
        "outputId": "6eef0f7a-5ae7-4815-8db5-e1f8a3b1c81a",
        "colab": {
          "base_uri": "https://localhost:8080/",
          "height": 70
        }
      },
      "source": [
        "#  printing the shape of the X and Y column of the train set\n",
        "print(type(X_train))\n",
        "print(X_train.shape,Y_train.shape)\n",
        "print(X_test.shape,Y_test.shape)\n"
      ],
      "execution_count": 113,
      "outputs": [
        {
          "output_type": "stream",
          "text": [
            "<class 'pandas.core.series.Series'>\n",
            "(109242,) (109242, 5)\n",
            "(46818,) (46818, 5)\n"
          ],
          "name": "stdout"
        }
      ]
    },
    {
      "cell_type": "code",
      "metadata": {
        "id": "2zHgbv68ohdn",
        "colab_type": "code",
        "colab": {}
      },
      "source": [
        "from keras.preprocessing.text import Tokenizer\n",
        "from keras.preprocessing.sequence import pad_sequences\n"
      ],
      "execution_count": 0,
      "outputs": []
    },
    {
      "cell_type": "code",
      "metadata": {
        "id": "wMtq_WpXojvV",
        "colab_type": "code",
        "outputId": "82a49486-6a1a-4301-a32e-2bd0c2c95a74",
        "colab": {
          "base_uri": "https://localhost:8080/",
          "height": 34
        }
      },
      "source": [
        "#  word tokenizing the train set and generating the frequency distribution\n",
        "all_words=' '.join(X_train)\n",
        "all_words=word_tokenize(all_words)\n",
        "#print(all_words)\n",
        "fre_dist=FreqDist(all_words)\n",
        "\n",
        "total_unique_word=len(fre_dist)\n",
        "total_unique_word\n",
        "#X_train.head()"
      ],
      "execution_count": 115,
      "outputs": [
        {
          "output_type": "execute_result",
          "data": {
            "text/plain": [
              "17715"
            ]
          },
          "metadata": {
            "tags": []
          },
          "execution_count": 115
        }
      ]
    },
    {
      "cell_type": "code",
      "metadata": {
        "id": "hs_lY1KXomLw",
        "colab_type": "code",
        "outputId": "3d860d6a-c94f-4578-bb90-ceeba94ae0e5",
        "colab": {
          "base_uri": "https://localhost:8080/",
          "height": 34
        }
      },
      "source": [
        "#  max length for the embbeder is set after tokenizing\n",
        "r_len=[]\n",
        "for text in X_train:\n",
        "    word=word_tokenize(text)\n",
        "  #  print(text)\n",
        "    l=len(word)\n",
        "    r_len.append(l)\n",
        "    \n",
        "MAX_word_len=np.max(r_len)\n",
        "MAX_word_len"
      ],
      "execution_count": 116,
      "outputs": [
        {
          "output_type": "execute_result",
          "data": {
            "text/plain": [
              "48"
            ]
          },
          "metadata": {
            "tags": []
          },
          "execution_count": 116
        }
      ]
    },
    {
      "cell_type": "code",
      "metadata": {
        "id": "vTcTvV0oooAa",
        "colab_type": "code",
        "colab": {}
      },
      "source": [
        "#  setting the maximum features obtained from tokenizing and TFIDF and setting teh epocha and batch size for the model input\n",
        "max_features = total_unique_word\n",
        "max_words = MAX_word_len\n",
        "batch_size = 128\n",
        "epochs = 10\n",
        "num_classes=5"
      ],
      "execution_count": 0,
      "outputs": []
    },
    {
      "cell_type": "code",
      "metadata": {
        "id": "bQH2QwxFoqOW",
        "colab_type": "code",
        "colab": {}
      },
      "source": [
        "\n",
        "from tensorflow.python.keras.models import Sequential\n",
        "from tensorflow.python.keras.layers import Dense, GRU, Embedding\n",
        "from tensorflow.python.keras.optimizers import Adam\n",
        "from tensorflow.python.keras.preprocessing.text import Tokenizer\n",
        "from tensorflow.python.keras.preprocessing.sequence import pad_sequences"
      ],
      "execution_count": 0,
      "outputs": []
    },
    {
      "cell_type": "code",
      "metadata": {
        "id": "blHhvRoaos02",
        "colab_type": "code",
        "colab": {}
      },
      "source": [
        "#  tokenizing text to sequences for the test and train set\n",
        "tokenizer = Tokenizer(num_words=max_features)\n",
        "tokenizer.fit_on_texts(X)\n",
        "X_train = tokenizer.texts_to_sequences(X_train)\n",
        "# X_val = tokenizer.texts_to_sequences(X_val)\n",
        "\n",
        "X_test = tokenizer.texts_to_sequences(X_test)\n",
        "#X_test"
      ],
      "execution_count": 0,
      "outputs": []
    },
    {
      "cell_type": "code",
      "metadata": {
        "id": "9ylK5hXBoz5r",
        "colab_type": "code",
        "outputId": "a0227f31-a80c-427b-a591-de613702cc2e",
        "colab": {
          "base_uri": "https://localhost:8080/",
          "height": 140
        }
      },
      "source": [
        "from keras.preprocessing import sequence,text\n",
        "from keras.preprocessing.text import Tokenizer\n",
        "from keras.models import Sequential\n",
        "from keras.preprocessing.sequence import pad_sequences\n",
        "X_train = sequence.pad_sequences(X_train, maxlen=max_words)\n",
        "# X_val = sequence.pad_sequences(X_val, maxlen=max_words)\n",
        "X_test = sequence.pad_sequences(X_test, maxlen=max_words)\n",
        "#print(X_train.shape,X_val.shape)\n",
        "X_test"
      ],
      "execution_count": 120,
      "outputs": [
        {
          "output_type": "execute_result",
          "data": {
            "text/plain": [
              "array([[    0,     0,     0, ...,     0,     0, 14660],\n",
              "       [    0,     0,     0, ...,     8,     1,  2759],\n",
              "       [    0,     0,     0, ...,   516,     1,  1198],\n",
              "       ...,\n",
              "       [    0,     0,     0, ...,     3,   362,  5535],\n",
              "       [    0,     0,     0, ...,     1,   795,   152],\n",
              "       [    0,     0,     0, ...,     0,   189,   908]], dtype=int32)"
            ]
          },
          "metadata": {
            "tags": []
          },
          "execution_count": 120
        }
      ]
    },
    {
      "cell_type": "code",
      "metadata": {
        "id": "QLMvWwHSo9XV",
        "colab_type": "code",
        "colab": {}
      },
      "source": [
        "from keras.layers import Input, Dense, Embedding, Flatten\n",
        "from keras.layers import SpatialDropout1D\n",
        "from keras.layers.convolutional import Conv1D, MaxPooling1D\n",
        "from keras.models import Sequential"
      ],
      "execution_count": 0,
      "outputs": []
    },
    {
      "cell_type": "code",
      "metadata": {
        "id": "ZLEM13_Lo_bU",
        "colab_type": "code",
        "colab": {}
      },
      "source": [
        "#  building the model with all teh layers used for efficent classfication\n",
        "cnn_model = Sequential()\n",
        "\n",
        "# Input / Embdedding\n",
        "cnn_model.add(Embedding(max_features, 150, input_length=max_words))\n",
        "\n",
        "# CNN\n",
        "cnn_model.add(SpatialDropout1D(0.2))\n",
        "\n",
        "cnn_model.add(Conv1D(32, kernel_size=3, padding='same', activation='relu'))\n",
        "cnn_model.add(MaxPooling1D(pool_size=2))\n",
        "\n",
        "cnn_model.add(Conv1D(64, kernel_size=3, padding='same', activation='relu'))\n",
        "cnn_model.add(MaxPooling1D(pool_size=2))\n",
        "\n",
        "cnn_model.add(Flatten())\n",
        "\n",
        "# Output layer\n",
        "cnn_model.add(Dense(5, activation='softmax'))"
      ],
      "execution_count": 0,
      "outputs": []
    },
    {
      "cell_type": "code",
      "metadata": {
        "id": "KiXMuii1pWEL",
        "colab_type": "code",
        "outputId": "850e3901-70cd-4d8d-ef6e-6387bec2f967",
        "colab": {
          "base_uri": "https://localhost:8080/",
          "height": 665
        }
      },
      "source": [
        "#  passing the training set to the model with loss and accuracy metrics\n",
        "cnn_model.compile(loss='categorical_crossentropy', optimizer='adam', metrics=['accuracy'])\n",
        "history = cnn_model.fit(X_train, Y_train,validation_data= (X_test, Y_test) ,epochs=epochs, batch_size=batch_size, verbose=1)\n",
        "# summarize history for loss\n",
        "plt.plot(history.history['loss'])\n",
        "plt.plot(history.history['val_loss'])\n",
        "plt.title('model loss')\n",
        "plt.ylabel('loss')\n",
        "plt.xlabel('epoch')\n",
        "plt.legend(['train', 'test'], loc='upper left')\n",
        "plt.show()"
      ],
      "execution_count": 123,
      "outputs": [
        {
          "output_type": "stream",
          "text": [
            "Train on 109242 samples, validate on 46818 samples\n",
            "Epoch 1/10\n",
            "109242/109242 [==============================] - 7s 66us/step - loss: 1.0330 - acc: 0.5870 - val_loss: 0.8861 - val_acc: 0.6400\n",
            "Epoch 2/10\n",
            "109242/109242 [==============================] - 6s 59us/step - loss: 0.7918 - acc: 0.6767 - val_loss: 0.8397 - val_acc: 0.6590\n",
            "Epoch 3/10\n",
            "109242/109242 [==============================] - 6s 58us/step - loss: 0.6977 - acc: 0.7144 - val_loss: 0.8459 - val_acc: 0.6609\n",
            "Epoch 4/10\n",
            "109242/109242 [==============================] - 6s 59us/step - loss: 0.6311 - acc: 0.7385 - val_loss: 0.8705 - val_acc: 0.6569\n",
            "Epoch 5/10\n",
            "109242/109242 [==============================] - 6s 59us/step - loss: 0.5796 - acc: 0.7587 - val_loss: 0.9267 - val_acc: 0.6547\n",
            "Epoch 6/10\n",
            "109242/109242 [==============================] - 6s 59us/step - loss: 0.5349 - acc: 0.7761 - val_loss: 0.9471 - val_acc: 0.6525\n",
            "Epoch 7/10\n",
            "109242/109242 [==============================] - 6s 59us/step - loss: 0.4970 - acc: 0.7920 - val_loss: 1.0066 - val_acc: 0.6411\n",
            "Epoch 8/10\n",
            "109242/109242 [==============================] - 6s 59us/step - loss: 0.4657 - acc: 0.8051 - val_loss: 1.0620 - val_acc: 0.6430\n",
            "Epoch 9/10\n",
            "109242/109242 [==============================] - 6s 59us/step - loss: 0.4384 - acc: 0.8164 - val_loss: 1.1039 - val_acc: 0.6391\n",
            "Epoch 10/10\n",
            "109242/109242 [==============================] - 6s 58us/step - loss: 0.4139 - acc: 0.8250 - val_loss: 1.1593 - val_acc: 0.6355\n"
          ],
          "name": "stdout"
        },
        {
          "output_type": "display_data",
          "data": {
            "image/png": "[encoded data removed]",
            "text/plain": [
              "<Figure size 432x288 with 1 Axes>"
            ]
          },
          "metadata": {
            "tags": []
          }
        }
      ]
    },
    {
      "cell_type": "code",
      "metadata": {
        "id": "MGgkPcSbuRwf",
        "colab_type": "code",
        "outputId": "a0c07ac2-9574-4034-f13e-75dd7e0c5542",
        "colab": {
          "base_uri": "https://localhost:8080/",
          "height": 34
        }
      },
      "source": [
        "from google.colab import drive\n",
        "drive.mount('/content/drive', force_remount=True)"
      ],
      "execution_count": 124,
      "outputs": [
        {
          "output_type": "stream",
          "text": [
            "Mounted at /content/drive\n"
          ],
          "name": "stdout"
        }
      ]
    },
    {
      "cell_type": "code",
      "metadata": {
        "id": "OHOHnH3Sud_a",
        "colab_type": "code",
        "colab": {}
      },
      "source": [
        "# saving the state of the model for future use\n",
        "cnn_model.save(\"1105500_1Dcnn.h5\")"
      ],
      "execution_count": 0,
      "outputs": []
    },
    {
      "cell_type": "code",
      "metadata": {
        "id": "fSCxhMNQuiCW",
        "colab_type": "code",
        "colab": {}
      },
      "source": [
        "from keras.models import load_model\n",
        "model = load_model('1105500_1Dcnn.h5')"
      ],
      "execution_count": 0,
      "outputs": []
    },
    {
      "cell_type": "code",
      "metadata": {
        "id": "AiebGVx33fX5",
        "colab_type": "code",
        "outputId": "666f73e7-b397-43a1-e53f-93d1211d4d47",
        "colab": {
          "base_uri": "https://localhost:8080/",
          "height": 246
        }
      },
      "source": [
        "# testing the model and displaying the precision, recall and f1 score of the model\n",
        "from sklearn.metrics import classification_report\n",
        "predection=cnn_model.predict_classes(X_test,verbose=1)\n",
        "Y_test=np.argmax(Y_test, axis=1)\n",
        "print(classification_report(Y_test, predection, digits=5))"
      ],
      "execution_count": 128,
      "outputs": [
        {
          "output_type": "stream",
          "text": [
            "46818/46818 [==============================] - 2s 49us/step\n",
            "              precision    recall  f1-score   support\n",
            "\n",
            "           0    0.45547   0.42417   0.43926      2110\n",
            "           1    0.52164   0.51318   0.51737      8081\n",
            "           2    0.73913   0.75548   0.74721     23920\n",
            "           3    0.53829   0.54154   0.53991      9929\n",
            "           4    0.51278   0.45500   0.48217      2778\n",
            "\n",
            "    accuracy                        0.63552     46818\n",
            "   macro avg    0.55346   0.53787   0.54519     46818\n",
            "weighted avg    0.63278   0.63552   0.63397     46818\n",
            "\n"
          ],
          "name": "stdout"
        }
      ]
    },
    {
      "cell_type": "code",
      "metadata": {
        "id": "KmX6-1ZB324U",
        "colab_type": "code",
        "colab": {}
      },
      "source": [
        ""
      ],
      "execution_count": 0,
      "outputs": []
    }
  ]
}