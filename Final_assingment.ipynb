{
  "nbformat": 4,
  "nbformat_minor": 0,
  "metadata": {
    "colab": {
      "name": "Final_assingment.ipynb",
      "provenance": [],
      "collapsed_sections": []
    },
    "kernelspec": {
      "name": "python3",
      "display_name": "Python 3"
    },
    "accelerator": "GPU"
  },
  "cells": [
    {
      "cell_type": "code",
      "metadata": {
        "id": "0hYwIsQhf_Nm",
        "colab_type": "code",
        "outputId": "efe47f2b-34f7-4967-f94b-08acd1c3d04b",
        "colab": {
          "base_uri": "https://localhost:8080/",
          "height": 87
        }
      },
      "source": [
        "\n",
        "#  importing all the libraries required for the experiment\n",
        "import numpy as np\n",
        "import pandas as pd\n",
        "import matplotlib.pyplot as plt\n",
        "import seaborn as sns\n",
        "%matplotlib inline\n",
        "import nltk\n",
        "nltk.download('punkt')\n",
        "nltk.download('wordnet')\n",
        "from nltk.tokenize import TweetTokenizer\n",
        "import datetime\n",
        "from sklearn.model_selection import train_test_split, cross_val_score\n",
        "from collections import Counter\n",
        "from nltk.corpus import stopwords\n",
        "from nltk.util import ngrams\n",
        "from sklearn.feature_extraction.text import TfidfVectorizer\n",
        "pd.set_option('max_colwidth',400)"
      ],
      "execution_count": 50,
      "outputs": [
        {
          "output_type": "stream",
          "text": [
            "[nltk_data] Downloading package punkt to /root/nltk_data...\n",
            "[nltk_data]   Package punkt is already up-to-date!\n",
            "[nltk_data] Downloading package wordnet to /root/nltk_data...\n",
            "[nltk_data]   Package wordnet is already up-to-date!\n"
          ],
          "name": "stdout"
        }
      ]
    },
    {
      "cell_type": "code",
      "metadata": {
        "id": "KFLHMFCbgNA7",
        "colab_type": "code",
        "outputId": "32483e41-0c3b-45ca-cabf-2afcd5b39a20",
        "colab": {
          "base_uri": "https://localhost:8080/",
          "height": 360
        }
      },
      "source": [
        "\n",
        "#  reading the dataset file from the content folder\n",
        "train = pd.read_csv('/content/train.tsv.txt', delimiter='\\t', usecols = ['SentenceId','Phrase','Sentiment'])\n",
        "pd.set_option('display.max_colwidth', -1)\n",
        "# displaying top 10 records of the dataset with all the headers\n",
        "train.head(10)\n"
      ],
      "execution_count": 51,
      "outputs": [
        {
          "output_type": "execute_result",
          "data": {
            "text/html": [
              "<div>\n",
              "<style scoped>\n",
              "    .dataframe tbody tr th:only-of-type {\n",
              "        vertical-align: middle;\n",
              "    }\n",
              "\n",
              "    .dataframe tbody tr th {\n",
              "        vertical-align: top;\n",
              "    }\n",
              "\n",
              "    .dataframe thead th {\n",
              "        text-align: right;\n",
              "    }\n",
              "</style>\n",
              "<table border=\"1\" class=\"dataframe\">\n",
              "  <thead>\n",
              "    <tr style=\"text-align: right;\">\n",
              "      <th></th>\n",
              "      <th>SentenceId</th>\n",
              "      <th>Phrase</th>\n",
              "      <th>Sentiment</th>\n",
              "    </tr>\n",
              "  </thead>\n",
              "  <tbody>\n",
              "    <tr>\n",
              "      <th>0</th>\n",
              "      <td>1</td>\n",
              "      <td>A series of escapades demonstrating the adage that what is good for the goose is also good for the gander , some of which occasionally amuses but none of which amounts to much of a story .</td>\n",
              "      <td>1</td>\n",
              "    </tr>\n",
              "    <tr>\n",
              "      <th>1</th>\n",
              "      <td>1</td>\n",
              "      <td>A series of escapades demonstrating the adage that what is good for the goose</td>\n",
              "      <td>2</td>\n",
              "    </tr>\n",
              "    <tr>\n",
              "      <th>2</th>\n",
              "      <td>1</td>\n",
              "      <td>A series</td>\n",
              "      <td>2</td>\n",
              "    </tr>\n",
              "    <tr>\n",
              "      <th>3</th>\n",
              "      <td>1</td>\n",
              "      <td>A</td>\n",
              "      <td>2</td>\n",
              "    </tr>\n",
              "    <tr>\n",
              "      <th>4</th>\n",
              "      <td>1</td>\n",
              "      <td>series</td>\n",
              "      <td>2</td>\n",
              "    </tr>\n",
              "    <tr>\n",
              "      <th>5</th>\n",
              "      <td>1</td>\n",
              "      <td>of escapades demonstrating the adage that what is good for the goose</td>\n",
              "      <td>2</td>\n",
              "    </tr>\n",
              "    <tr>\n",
              "      <th>6</th>\n",
              "      <td>1</td>\n",
              "      <td>of</td>\n",
              "      <td>2</td>\n",
              "    </tr>\n",
              "    <tr>\n",
              "      <th>7</th>\n",
              "      <td>1</td>\n",
              "      <td>escapades demonstrating the adage that what is good for the goose</td>\n",
              "      <td>2</td>\n",
              "    </tr>\n",
              "    <tr>\n",
              "      <th>8</th>\n",
              "      <td>1</td>\n",
              "      <td>escapades</td>\n",
              "      <td>2</td>\n",
              "    </tr>\n",
              "    <tr>\n",
              "      <th>9</th>\n",
              "      <td>1</td>\n",
              "      <td>demonstrating the adage that what is good for the goose</td>\n",
              "      <td>2</td>\n",
              "    </tr>\n",
              "  </tbody>\n",
              "</table>\n",
              "</div>"
            ],
            "text/plain": [
              "   SentenceId  ... Sentiment\n",
              "0  1           ...  1       \n",
              "1  1           ...  2       \n",
              "2  1           ...  2       \n",
              "3  1           ...  2       \n",
              "4  1           ...  2       \n",
              "5  1           ...  2       \n",
              "6  1           ...  2       \n",
              "7  1           ...  2       \n",
              "8  1           ...  2       \n",
              "9  1           ...  2       \n",
              "\n",
              "[10 rows x 3 columns]"
            ]
          },
          "metadata": {
            "tags": []
          },
          "execution_count": 51
        }
      ]
    },
    {
      "cell_type": "code",
      "metadata": {
        "id": "tReLksL1hV83",
        "colab_type": "code",
        "outputId": "c6ba69cd-1597-4795-c3b5-7816f9774fed",
        "colab": {
          "base_uri": "https://localhost:8080/",
          "height": 122
        }
      },
      "source": [
        "# printing the sentiment counts for each sentiment in the dataset\n",
        "train['Sentiment'].value_counts()"
      ],
      "execution_count": 52,
      "outputs": [
        {
          "output_type": "execute_result",
          "data": {
            "text/plain": [
              "2    79582\n",
              "3    32927\n",
              "1    27273\n",
              "4    9206 \n",
              "0    7072 \n",
              "Name: Sentiment, dtype: int64"
            ]
          },
          "metadata": {
            "tags": []
          },
          "execution_count": 52
        }
      ]
    },
    {
      "cell_type": "code",
      "metadata": {
        "id": "xx4N5R9oi_Mq",
        "colab_type": "code",
        "outputId": "8730566e-7a85-4c27-a338-19231a450c7b",
        "colab": {
          "base_uri": "https://localhost:8080/",
          "height": 52
        }
      },
      "source": [
        "# importing libraries for the pre processing of the data\n",
        "from nltk.tokenize import word_tokenize\n",
        "from nltk import FreqDist\n",
        "from nltk.stem import SnowballStemmer,WordNetLemmatizer,PorterStemmer,LancasterStemmer\n",
        "from string import punctuation\n",
        "import re\n",
        "import nltk\n",
        "nltk.download('stopwords')\n",
        "stemmer=LancasterStemmer()\n",
        "lemma=WordNetLemmatizer()\n",
        "stopwords_en = stopwords.words(\"english\")\n",
        "punctuations=\"?:!.,;'\\\"-()\"\n",
        "remove_stopwords = False\n",
        "useStemming = True\n",
        "useLemma = True\n",
        "removePuncs = True"
      ],
      "execution_count": 53,
      "outputs": [
        {
          "output_type": "stream",
          "text": [
            "[nltk_data] Downloading package stopwords to /root/nltk_data...\n",
            "[nltk_data]   Package stopwords is already up-to-date!\n"
          ],
          "name": "stdout"
        }
      ]
    },
    {
      "cell_type": "code",
      "metadata": {
        "id": "wz-VxcwJjCDG",
        "colab_type": "code",
        "colab": {}
      },
      "source": [
        "#  creating a clean review column which is done after removeing stop words and lower case all the words.\n",
        "#  wordnet lemmatizer is used to lemmatize the words.\n",
        "def final_review(review_col):\n",
        "    review_corpus=[]\n",
        "    for i in range(0,len(review_col)):\n",
        "      review=str(review_col[i])\n",
        "      review=re.sub('[^a-zA-Z]',' ',review)\n",
        "        \n",
        "      if useStemming:\n",
        "        review = stemmer.stem(review)\n",
        "      if useLemma:\n",
        "         review=[lemma.lemmatize(w) for w in word_tokenize(str(review).lower())]\n",
        "      review=' '.join(review)\n",
        "      review_corpus.append(review)\n",
        "    return review_corpus\n",
        "\n",
        "       \n",
        "        # review=re.sub('[^a-zA-Z]',' ',review)\n",
        "        # review = stemmer.stem(review)\n",
        "       \n",
        "        \n",
        "       \n",
        "    \n",
        "\n",
        "   "
      ],
      "execution_count": 0,
      "outputs": []
    },
    {
      "cell_type": "code",
      "metadata": {
        "id": "FUEjGA-pjEqs",
        "colab_type": "code",
        "outputId": "df55b9a6-1633-45bc-da08-5e799b214e70",
        "colab": {
          "base_uri": "https://localhost:8080/",
          "height": 246
        }
      },
      "source": [
        " \n",
        "# displaying the result of the clean review after the preprocessing\n",
        "train['final_review']=final_review(train.Phrase.values)\n",
        "train.head(5)"
      ],
      "execution_count": 55,
      "outputs": [
        {
          "output_type": "execute_result",
          "data": {
            "text/html": [
              "<div>\n",
              "<style scoped>\n",
              "    .dataframe tbody tr th:only-of-type {\n",
              "        vertical-align: middle;\n",
              "    }\n",
              "\n",
              "    .dataframe tbody tr th {\n",
              "        vertical-align: top;\n",
              "    }\n",
              "\n",
              "    .dataframe thead th {\n",
              "        text-align: right;\n",
              "    }\n",
              "</style>\n",
              "<table border=\"1\" class=\"dataframe\">\n",
              "  <thead>\n",
              "    <tr style=\"text-align: right;\">\n",
              "      <th></th>\n",
              "      <th>SentenceId</th>\n",
              "      <th>Phrase</th>\n",
              "      <th>Sentiment</th>\n",
              "      <th>final_review</th>\n",
              "    </tr>\n",
              "  </thead>\n",
              "  <tbody>\n",
              "    <tr>\n",
              "      <th>0</th>\n",
              "      <td>1</td>\n",
              "      <td>A series of escapades demonstrating the adage that what is good for the goose is also good for the gander , some of which occasionally amuses but none of which amounts to much of a story .</td>\n",
              "      <td>1</td>\n",
              "      <td>a series of escapade demonstrating the adage that what is good for the goose is also good for the gander some of which occasionally amuses but none of which amount to much of a story</td>\n",
              "    </tr>\n",
              "    <tr>\n",
              "      <th>1</th>\n",
              "      <td>1</td>\n",
              "      <td>A series of escapades demonstrating the adage that what is good for the goose</td>\n",
              "      <td>2</td>\n",
              "      <td>a series of escapade demonstrating the adage that what is good for the goose</td>\n",
              "    </tr>\n",
              "    <tr>\n",
              "      <th>2</th>\n",
              "      <td>1</td>\n",
              "      <td>A series</td>\n",
              "      <td>2</td>\n",
              "      <td>a series</td>\n",
              "    </tr>\n",
              "    <tr>\n",
              "      <th>3</th>\n",
              "      <td>1</td>\n",
              "      <td>A</td>\n",
              "      <td>2</td>\n",
              "      <td>a</td>\n",
              "    </tr>\n",
              "    <tr>\n",
              "      <th>4</th>\n",
              "      <td>1</td>\n",
              "      <td>series</td>\n",
              "      <td>2</td>\n",
              "      <td>sery</td>\n",
              "    </tr>\n",
              "  </tbody>\n",
              "</table>\n",
              "</div>"
            ],
            "text/plain": [
              "   SentenceId  ...                                                                                                                                                                            final_review\n",
              "0  1           ...  a series of escapade demonstrating the adage that what is good for the goose is also good for the gander some of which occasionally amuses but none of which amount to much of a story\n",
              "1  1           ...  a series of escapade demonstrating the adage that what is good for the goose                                                                                                          \n",
              "2  1           ...  a series                                                                                                                                                                              \n",
              "3  1           ...  a                                                                                                                                                                                     \n",
              "4  1           ...  sery                                                                                                                                                                                  \n",
              "\n",
              "[5 rows x 4 columns]"
            ]
          },
          "metadata": {
            "tags": []
          },
          "execution_count": 55
        }
      ]
    },
    {
      "cell_type": "code",
      "metadata": {
        "id": "PG23Yn5qnkKl",
        "colab_type": "code",
        "colab": {}
      },
      "source": [
        "tokenizer = TweetTokenizer()"
      ],
      "execution_count": 0,
      "outputs": []
    },
    {
      "cell_type": "code",
      "metadata": {
        "id": "ia_hDT1UnoMw",
        "colab_type": "code",
        "outputId": "91327e18-6833-48de-b632-10153bde2c08",
        "colab": {
          "base_uri": "https://localhost:8080/",
          "height": 72
        }
      },
      "source": [
        "# word tokenizing the data from the clean phrases obtained after the preprocessing\n",
        "vectorizer = TfidfVectorizer(ngram_range=(1, 2), tokenizer=tokenizer.tokenize)\n",
        "full_text = list(train['final_review'].values) \n",
        "vectorizer.fit(full_text)\n",
        "upsampled_vectorized_data = vectorizer.transform(train['final_review'])\n"
      ],
      "execution_count": 57,
      "outputs": [
        {
          "output_type": "stream",
          "text": [
            "/usr/local/lib/python3.6/dist-packages/sklearn/feature_extraction/text.py:507: UserWarning: The parameter 'token_pattern' will not be used since 'tokenizer' is not None'\n",
            "  warnings.warn(\"The parameter 'token_pattern' will not be used\"\n"
          ],
          "name": "stderr"
        }
      ]
    },
    {
      "cell_type": "code",
      "metadata": {
        "id": "hNRdilFooAMq",
        "colab_type": "code",
        "colab": {}
      },
      "source": [
        "#  storing the sentiment value in the Y column\n",
        "y = train['Sentiment']"
      ],
      "execution_count": 0,
      "outputs": []
    },
    {
      "cell_type": "code",
      "metadata": {
        "id": "ZqQ4BcfZoG7v",
        "colab_type": "code",
        "outputId": "867d36f6-e5f8-4d1b-9d8a-0af61663371d",
        "colab": {
          "base_uri": "https://localhost:8080/",
          "height": 140
        }
      },
      "source": [
        "#  since the data is a multi class , we turn the sentiment into categorical form for easy processing and classfication\n",
        "from keras.utils import to_categorical\n",
        "X = train['final_review']\n",
        "\n",
        "Y = to_categorical(train['Sentiment'].values)\n",
        "print(Y)"
      ],
      "execution_count": 59,
      "outputs": [
        {
          "output_type": "stream",
          "text": [
            "[[0. 1. 0. 0. 0.]\n",
            " [0. 0. 1. 0. 0.]\n",
            " [0. 0. 1. 0. 0.]\n",
            " ...\n",
            " [0. 0. 0. 1. 0.]\n",
            " [0. 0. 1. 0. 0.]\n",
            " [0. 0. 1. 0. 0.]]\n"
          ],
          "name": "stdout"
        }
      ]
    },
    {
      "cell_type": "code",
      "metadata": {
        "id": "bX2UGM6SoQNB",
        "colab_type": "code",
        "colab": {}
      },
      "source": [
        "#  splitting the train file into train and test with ration of 70 and 30\n",
        "from sklearn.model_selection import train_test_split\n",
        "X_train, X_test, Y_train, Y_test = train_test_split(X, Y, test_size=0.3, random_state=123)"
      ],
      "execution_count": 0,
      "outputs": []
    },
    {
      "cell_type": "code",
      "metadata": {
        "id": "W8g56qBhoa3x",
        "colab_type": "code",
        "outputId": "133789b2-9e28-4c59-ce0c-fc9f9434ebfb",
        "colab": {
          "base_uri": "https://localhost:8080/",
          "height": 70
        }
      },
      "source": [
        "#  printing the shape of the X and Y column of the train set\n",
        "print(type(X_train))\n",
        "print(X_train.shape,Y_train.shape)\n",
        "print(X_test.shape,Y_test.shape)\n"
      ],
      "execution_count": 61,
      "outputs": [
        {
          "output_type": "stream",
          "text": [
            "<class 'pandas.core.series.Series'>\n",
            "(109242,) (109242, 5)\n",
            "(46818,) (46818, 5)\n"
          ],
          "name": "stdout"
        }
      ]
    },
    {
      "cell_type": "code",
      "metadata": {
        "id": "2zHgbv68ohdn",
        "colab_type": "code",
        "colab": {}
      },
      "source": [
        "from keras.preprocessing.text import Tokenizer\n",
        "from keras.preprocessing.sequence import pad_sequences\n"
      ],
      "execution_count": 0,
      "outputs": []
    },
    {
      "cell_type": "code",
      "metadata": {
        "id": "wMtq_WpXojvV",
        "colab_type": "code",
        "outputId": "bbed7fed-3822-49f2-f894-7b760198c11d",
        "colab": {
          "base_uri": "https://localhost:8080/",
          "height": 34
        }
      },
      "source": [
        "#  word tokenizing the train set and generating the frequency distribution\n",
        "all_words=' '.join(X_train)\n",
        "all_words=word_tokenize(all_words)\n",
        "#print(all_words)\n",
        "fre_dist=FreqDist(all_words)\n",
        "\n",
        "total_unique_word=len(fre_dist)\n",
        "total_unique_word\n",
        "#X_train.head()"
      ],
      "execution_count": 63,
      "outputs": [
        {
          "output_type": "execute_result",
          "data": {
            "text/plain": [
              "17715"
            ]
          },
          "metadata": {
            "tags": []
          },
          "execution_count": 63
        }
      ]
    },
    {
      "cell_type": "code",
      "metadata": {
        "id": "hs_lY1KXomLw",
        "colab_type": "code",
        "outputId": "35e1d557-bd8d-4971-a91e-7c1bad899452",
        "colab": {
          "base_uri": "https://localhost:8080/",
          "height": 34
        }
      },
      "source": [
        "#  max length for the embbeder is set after tokenizing\n",
        "r_len=[]\n",
        "for text in X_train:\n",
        "    word=word_tokenize(text)\n",
        "  #  print(text)\n",
        "    l=len(word)\n",
        "    r_len.append(l)\n",
        "    \n",
        "MAX_word_len=np.max(r_len)\n",
        "MAX_word_len"
      ],
      "execution_count": 64,
      "outputs": [
        {
          "output_type": "execute_result",
          "data": {
            "text/plain": [
              "48"
            ]
          },
          "metadata": {
            "tags": []
          },
          "execution_count": 64
        }
      ]
    },
    {
      "cell_type": "code",
      "metadata": {
        "id": "vTcTvV0oooAa",
        "colab_type": "code",
        "colab": {}
      },
      "source": [
        "#  setting the maximum features obtained from tokenizing and TFIDF and setting teh epocha and batch size for the model input\n",
        "max_features = total_unique_word\n",
        "max_words = MAX_word_len\n",
        "batch_size = 128\n",
        "epochs = 10\n",
        "num_classes=5"
      ],
      "execution_count": 0,
      "outputs": []
    },
    {
      "cell_type": "code",
      "metadata": {
        "id": "bQH2QwxFoqOW",
        "colab_type": "code",
        "colab": {}
      },
      "source": [
        "\n",
        "from tensorflow.python.keras.models import Sequential\n",
        "from tensorflow.python.keras.layers import Dense, GRU, Embedding\n",
        "from tensorflow.python.keras.optimizers import Adam\n",
        "from tensorflow.python.keras.preprocessing.text import Tokenizer\n",
        "from tensorflow.python.keras.preprocessing.sequence import pad_sequences"
      ],
      "execution_count": 0,
      "outputs": []
    },
    {
      "cell_type": "code",
      "metadata": {
        "id": "blHhvRoaos02",
        "colab_type": "code",
        "colab": {}
      },
      "source": [
        "#  tokenizing text to sequences for the test and train set\n",
        "tokenizer = Tokenizer(num_words=max_features)\n",
        "tokenizer.fit_on_texts(X)\n",
        "X_train = tokenizer.texts_to_sequences(X_train)\n",
        "# X_val = tokenizer.texts_to_sequences(X_val)\n",
        "\n",
        "X_test = tokenizer.texts_to_sequences(X_test)\n",
        "#X_test"
      ],
      "execution_count": 0,
      "outputs": []
    },
    {
      "cell_type": "code",
      "metadata": {
        "id": "9ylK5hXBoz5r",
        "colab_type": "code",
        "outputId": "62560282-7a78-4538-edc9-40a75010524a",
        "colab": {
          "base_uri": "https://localhost:8080/",
          "height": 140
        }
      },
      "source": [
        "from keras.preprocessing import sequence,text\n",
        "from keras.preprocessing.text import Tokenizer\n",
        "from keras.models import Sequential\n",
        "from keras.preprocessing.sequence import pad_sequences\n",
        "X_train = sequence.pad_sequences(X_train, maxlen=max_words)\n",
        "# X_val = sequence.pad_sequences(X_val, maxlen=max_words)\n",
        "X_test = sequence.pad_sequences(X_test, maxlen=max_words)\n",
        "#print(X_train.shape,X_val.shape)\n",
        "X_test"
      ],
      "execution_count": 68,
      "outputs": [
        {
          "output_type": "execute_result",
          "data": {
            "text/plain": [
              "array([[    0,     0,     0, ...,     0,     0, 14660],\n",
              "       [    0,     0,     0, ...,     8,     1,  2759],\n",
              "       [    0,     0,     0, ...,   516,     1,  1198],\n",
              "       ...,\n",
              "       [    0,     0,     0, ...,     3,   362,  5535],\n",
              "       [    0,     0,     0, ...,     1,   795,   152],\n",
              "       [    0,     0,     0, ...,     0,   189,   908]], dtype=int32)"
            ]
          },
          "metadata": {
            "tags": []
          },
          "execution_count": 68
        }
      ]
    },
    {
      "cell_type": "code",
      "metadata": {
        "id": "QLMvWwHSo9XV",
        "colab_type": "code",
        "colab": {}
      },
      "source": [
        "from keras.layers import Input, Dense, Embedding, Flatten\n",
        "from keras.layers import SpatialDropout1D\n",
        "from keras.layers.convolutional import Conv1D, MaxPooling1D\n",
        "from keras.models import Sequential"
      ],
      "execution_count": 0,
      "outputs": []
    },
    {
      "cell_type": "code",
      "metadata": {
        "id": "ZLEM13_Lo_bU",
        "colab_type": "code",
        "colab": {}
      },
      "source": [
        "#  building the model with all teh layers used for efficent classfication\n",
        "cnn_model = Sequential()\n",
        "\n",
        "# Input / Embdedding\n",
        "cnn_model.add(Embedding(max_features, 150, input_length=max_words))\n",
        "\n",
        "# CNN\n",
        "cnn_model.add(SpatialDropout1D(0.2))\n",
        "\n",
        "cnn_model.add(Conv1D(32, kernel_size=3, padding='same', activation='relu'))\n",
        "cnn_model.add(MaxPooling1D(pool_size=2))\n",
        "\n",
        "cnn_model.add(Conv1D(64, kernel_size=3, padding='same', activation='relu'))\n",
        "cnn_model.add(MaxPooling1D(pool_size=2))\n",
        "\n",
        "cnn_model.add(Flatten())\n",
        "\n",
        "# Output layer\n",
        "cnn_model.add(Dense(5, activation='softmax'))"
      ],
      "execution_count": 0,
      "outputs": []
    },
    {
      "cell_type": "code",
      "metadata": {
        "id": "KiXMuii1pWEL",
        "colab_type": "code",
        "outputId": "f0f6af17-4645-4ac7-a152-9f78b873a9ba",
        "colab": {
          "base_uri": "https://localhost:8080/",
          "height": 665
        }
      },
      "source": [
        "#  passing the training set to the model with loss and accuracy metrics\n",
        "cnn_model.compile(loss='categorical_crossentropy', optimizer='adam', metrics=['accuracy'])\n",
        "history = cnn_model.fit(X_train, Y_train,validation_data= (X_test, Y_test) ,epochs=epochs, batch_size=batch_size, verbose=1)\n",
        "# summarize history for loss\n",
        "plt.plot(history.history['loss'])\n",
        "plt.plot(history.history['val_loss'])\n",
        "plt.title('model loss')\n",
        "plt.ylabel('loss')\n",
        "plt.xlabel('epoch')\n",
        "plt.legend(['train', 'test'], loc='upper left')\n",
        "plt.show()"
      ],
      "execution_count": 71,
      "outputs": [
        {
          "output_type": "stream",
          "text": [
            "Train on 109242 samples, validate on 46818 samples\n",
            "Epoch 1/10\n",
            "109242/109242 [==============================] - 7s 64us/step - loss: 1.0127 - acc: 0.5951 - val_loss: 0.8771 - val_acc: 0.6470\n",
            "Epoch 2/10\n",
            "109242/109242 [==============================] - 6s 59us/step - loss: 0.7863 - acc: 0.6773 - val_loss: 0.8419 - val_acc: 0.6588\n",
            "Epoch 3/10\n",
            "109242/109242 [==============================] - 6s 59us/step - loss: 0.6947 - acc: 0.7133 - val_loss: 0.8464 - val_acc: 0.6593\n",
            "Epoch 4/10\n",
            "109242/109242 [==============================] - 6s 59us/step - loss: 0.6258 - acc: 0.7399 - val_loss: 0.8743 - val_acc: 0.6575\n",
            "Epoch 5/10\n",
            "109242/109242 [==============================] - 6s 58us/step - loss: 0.5728 - acc: 0.7596 - val_loss: 0.9170 - val_acc: 0.6510\n",
            "Epoch 6/10\n",
            "109242/109242 [==============================] - 7s 61us/step - loss: 0.5319 - acc: 0.7772 - val_loss: 0.9529 - val_acc: 0.6485\n",
            "Epoch 7/10\n",
            "109242/109242 [==============================] - 7s 60us/step - loss: 0.4944 - acc: 0.7934 - val_loss: 1.0167 - val_acc: 0.6402\n",
            "Epoch 8/10\n",
            "109242/109242 [==============================] - 6s 59us/step - loss: 0.4612 - acc: 0.8048 - val_loss: 1.0860 - val_acc: 0.6459\n",
            "Epoch 9/10\n",
            "109242/109242 [==============================] - 6s 59us/step - loss: 0.4350 - acc: 0.8161 - val_loss: 1.1132 - val_acc: 0.6393\n",
            "Epoch 10/10\n",
            "109242/109242 [==============================] - 6s 59us/step - loss: 0.4123 - acc: 0.8268 - val_loss: 1.1699 - val_acc: 0.6370\n"
          ],
          "name": "stdout"
        },
        {
          "output_type": "display_data",
          "data": {
            "image/png": "[encoded data removed]",
            "text/plain": [
              "<Figure size 432x288 with 1 Axes>"
            ]
          },
          "metadata": {
            "tags": []
          }
        }
      ]
    },
    {
      "cell_type": "code",
      "metadata": {
        "id": "MGgkPcSbuRwf",
        "colab_type": "code",
        "outputId": "e718ae2f-3dd4-45d9-8728-78cae98bd7e6",
        "colab": {
          "base_uri": "https://localhost:8080/",
          "height": 125
        }
      },
      "source": [
        "from google.colab import drive\n",
        "drive.mount('/content/drive', force_remount=True)"
      ],
      "execution_count": 72,
      "outputs": [
        {
          "output_type": "stream",
          "text": [
            "Go to this URL in a browser: https://accounts.google.com/o/oauth2/auth?client_id=947318989803-6bn6qk8qdgf4n4g3pfee6491hc0brc4i.apps.googleusercontent.com&redirect_uri=urn%3aietf%3awg%3aoauth%3a2.0%3aoob&response_type=code&scope=email%20https%3a%2f%2fwww.googleapis.com%2fauth%2fdocs.test%20https%3a%2f%2fwww.googleapis.com%2fauth%2fdrive%20https%3a%2f%2fwww.googleapis.com%2fauth%2fdrive.photos.readonly%20https%3a%2f%2fwww.googleapis.com%2fauth%2fpeopleapi.readonly\n",
            "\n",
            "Enter your authorization code:\n",
            "··········\n",
            "Mounted at /content/drive\n"
          ],
          "name": "stdout"
        }
      ]
    },
    {
      "cell_type": "code",
      "metadata": {
        "id": "OHOHnH3Sud_a",
        "colab_type": "code",
        "colab": {}
      },
      "source": [
        "# saving the state of the model for future use\n",
        "cnn_model.save(\"cnn_model.h5\")"
      ],
      "execution_count": 0,
      "outputs": []
    },
    {
      "cell_type": "code",
      "metadata": {
        "id": "fSCxhMNQuiCW",
        "colab_type": "code",
        "colab": {}
      },
      "source": [
        "from keras.models import load_model\n",
        "model = load_model('cnn_model.h5')"
      ],
      "execution_count": 0,
      "outputs": []
    },
    {
      "cell_type": "code",
      "metadata": {
        "id": "AiebGVx33fX5",
        "colab_type": "code",
        "outputId": "bb3d5ff0-b2cd-4297-bad0-0377ce0b121e",
        "colab": {
          "base_uri": "https://localhost:8080/",
          "height": 246
        }
      },
      "source": [
        "# testing the model and displaying the precision, recall and f1 score of the model\n",
        "from sklearn.metrics import classification_report\n",
        "predection=cnn_model.predict_classes(X_test,verbose=1)\n",
        "Y_test=np.argmax(Y_test, axis=1)\n",
        "print(classification_report(Y_test, predection, digits=5))"
      ],
      "execution_count": 75,
      "outputs": [
        {
          "output_type": "stream",
          "text": [
            "46818/46818 [==============================] - 2s 45us/step\n",
            "              precision    recall  f1-score   support\n",
            "\n",
            "           0    0.49406   0.31517   0.38484      2110\n",
            "           1    0.52043   0.53273   0.52651      8081\n",
            "           2    0.73085   0.76580   0.74792     23920\n",
            "           3    0.54218   0.54044   0.54131      9929\n",
            "           4    0.52211   0.42081   0.46602      2778\n",
            "\n",
            "    accuracy                        0.63700     46818\n",
            "   macro avg    0.56193   0.51499   0.53332     46818\n",
            "weighted avg    0.63146   0.63700   0.63279     46818\n",
            "\n"
          ],
          "name": "stdout"
        }
      ]
    },
    {
      "cell_type": "code",
      "metadata": {
        "id": "KmX6-1ZB324U",
        "colab_type": "code",
        "colab": {}
      },
      "source": [
        ""
      ],
      "execution_count": 0,
      "outputs": []
    }
  ]
}